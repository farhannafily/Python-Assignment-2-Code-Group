{
  "nbformat": 4,
  "nbformat_minor": 0,
  "metadata": {
    "colab": {
      "name": "Tugas Python 2 - Code",
      "provenance": [],
      "collapsed_sections": []
    },
    "kernelspec": {
      "name": "python3",
      "display_name": "Python 3"
    },
    "language_info": {
      "name": "python"
    }
  },
  "cells": [
    {
      "cell_type": "markdown",
      "source": [
        "# Collection Data Types"
      ],
      "metadata": {
        "id": "EaGHtS31rOOF"
      }
    },
    {
      "cell_type": "markdown",
      "source": [
        "***There are four collection data types in the Python programming language:***\n",
        "\n",
        "\n",
        "1.   List is a collection which is ordered and changeable. Allows duplicate members\n",
        "2.   Tuple is a collection which is ordered and unchangeable. Allows duplicate members.\n",
        "3.   Set is a collection which is unordered, unchangeable*, and unindexed. No duplicate members.\n",
        "4.   Dictionary is a collection which is ordered** and changeable. No duplicate members."
      ],
      "metadata": {
        "id": "2D7xFE9fctuh"
      }
    },
    {
      "cell_type": "markdown",
      "source": [
        "# List\n",
        "\n",
        "Lists are the most versatile of Python's compound data types.\n",
        "\n",
        "Lists are used to store multiple items in a single variable.\n",
        "\n",
        "## *A list contains items separated by commas ( , ) and enclosed within square brackets [ ].* \n"
      ],
      "metadata": {
        "id": "2I_-Q_M9sxU4"
      }
    },
    {
      "cell_type": "code",
      "source": [
        "#For the Example\n",
        "\n",
        "Linguistic = [\"Sociolinguistics\", \"Psycholinguistics\", \"Forensic Linguistics\", \"Computing Linguistic\"]"
      ],
      "metadata": {
        "id": "O2qMKJ1yyZ2Q"
      },
      "execution_count": null,
      "outputs": []
    },
    {
      "cell_type": "code",
      "source": [
        "print(Linguistic)"
      ],
      "metadata": {
        "colab": {
          "base_uri": "https://localhost:8080/"
        },
        "id": "OG32K4Gi0M3l",
        "outputId": "03406919-6b46-4bce-e277-901ebf4ae838"
      },
      "execution_count": null,
      "outputs": [
        {
          "output_type": "stream",
          "name": "stdout",
          "text": [
            "['Sociolinguistics', 'Psycholinguistics', 'Forensic Linguistics', 'Computing Linguistic']\n"
          ]
        }
      ]
    },
    {
      "cell_type": "markdown",
      "source": [
        "## *List items are indexed, the first item has index [0], the second item has index [1] etc.*\n"
      ],
      "metadata": {
        "id": "ObdwhuqnvYDV"
      }
    },
    {
      "cell_type": "code",
      "source": [
        "#For Example:\n",
        "\n",
        "Linguistic[0]"
      ],
      "metadata": {
        "colab": {
          "base_uri": "https://localhost:8080/",
          "height": 35
        },
        "id": "NedtiQF92LVU",
        "outputId": "6206cf6c-c68a-486f-d82b-8bf97111c6fc"
      },
      "execution_count": null,
      "outputs": [
        {
          "output_type": "execute_result",
          "data": {
            "text/plain": [
              "'Sociolinguistics'"
            ],
            "application/vnd.google.colaboratory.intrinsic+json": {
              "type": "string"
            }
          },
          "metadata": {},
          "execution_count": 46
        }
      ]
    },
    {
      "cell_type": "code",
      "source": [
        "#For Example:\n",
        "\n",
        "Linguistic[1]"
      ],
      "metadata": {
        "colab": {
          "base_uri": "https://localhost:8080/",
          "height": 35
        },
        "id": "H9zB26vh2ixZ",
        "outputId": "671473fc-3d23-4686-8ee8-1798660d6fcc"
      },
      "execution_count": null,
      "outputs": [
        {
          "output_type": "execute_result",
          "data": {
            "text/plain": [
              "'Psycholinguistics'"
            ],
            "application/vnd.google.colaboratory.intrinsic+json": {
              "type": "string"
            }
          },
          "metadata": {},
          "execution_count": 47
        }
      ]
    },
    {
      "cell_type": "code",
      "source": [
        "#For Example:\n",
        "\n",
        "Linguistic[2]"
      ],
      "metadata": {
        "colab": {
          "base_uri": "https://localhost:8080/",
          "height": 35
        },
        "id": "K6615N8x2mhg",
        "outputId": "d8d9c7ff-6ddb-4e7b-fb97-092317c1072b"
      },
      "execution_count": null,
      "outputs": [
        {
          "output_type": "execute_result",
          "data": {
            "text/plain": [
              "'Forensic Linguistics'"
            ],
            "application/vnd.google.colaboratory.intrinsic+json": {
              "type": "string"
            }
          },
          "metadata": {},
          "execution_count": 48
        }
      ]
    },
    {
      "cell_type": "code",
      "source": [
        "#For Example:\n",
        "\n",
        "Linguistic[3]"
      ],
      "metadata": {
        "colab": {
          "base_uri": "https://localhost:8080/",
          "height": 35
        },
        "id": "O0I4cNF-2vSi",
        "outputId": "6f445d51-e649-411f-a1e1-c9c78cddd4d4"
      },
      "execution_count": null,
      "outputs": [
        {
          "output_type": "execute_result",
          "data": {
            "text/plain": [
              "'Computing Linguistic'"
            ],
            "application/vnd.google.colaboratory.intrinsic+json": {
              "type": "string"
            }
          },
          "metadata": {},
          "execution_count": 49
        }
      ]
    },
    {
      "cell_type": "code",
      "source": [
        "#For Example:\n",
        "\n",
        "Linguistic[4]\n",
        "\n",
        "\n",
        "#It will be error, because list index out of the range"
      ],
      "metadata": {
        "colab": {
          "base_uri": "https://localhost:8080/",
          "height": 235
        },
        "id": "p96twdS-2x7e",
        "outputId": "53ef777f-24ef-432e-ca3b-089cf569f6a6"
      },
      "execution_count": null,
      "outputs": [
        {
          "output_type": "error",
          "ename": "IndexError",
          "evalue": "ignored",
          "traceback": [
            "\u001b[0;31m---------------------------------------------------------------------------\u001b[0m",
            "\u001b[0;31mIndexError\u001b[0m                                Traceback (most recent call last)",
            "\u001b[0;32m<ipython-input-50-6b51793f0ecc>\u001b[0m in \u001b[0;36m<module>\u001b[0;34m()\u001b[0m\n\u001b[1;32m      1\u001b[0m \u001b[0;31m#For Example:\u001b[0m\u001b[0;34m\u001b[0m\u001b[0;34m\u001b[0m\u001b[0;34m\u001b[0m\u001b[0m\n\u001b[1;32m      2\u001b[0m \u001b[0;34m\u001b[0m\u001b[0m\n\u001b[0;32m----> 3\u001b[0;31m \u001b[0mLinguistic\u001b[0m\u001b[0;34m[\u001b[0m\u001b[0;36m4\u001b[0m\u001b[0;34m]\u001b[0m\u001b[0;34m\u001b[0m\u001b[0;34m\u001b[0m\u001b[0m\n\u001b[0m\u001b[1;32m      4\u001b[0m \u001b[0;34m\u001b[0m\u001b[0m\n\u001b[1;32m      5\u001b[0m \u001b[0;34m\u001b[0m\u001b[0m\n",
            "\u001b[0;31mIndexError\u001b[0m: list index out of range"
          ]
        }
      ]
    },
    {
      "cell_type": "markdown",
      "source": [
        "## *The use of list in python could from any data types : int, float, and strings*"
      ],
      "metadata": {
        "id": "0No5CXZ-UXlR"
      }
    },
    {
      "cell_type": "code",
      "source": [
        "#For the Example\n",
        "\n",
        "Height = [160, 170.8, \"One hundred and fifty five\"]"
      ],
      "metadata": {
        "id": "uInHIix3UXlS"
      },
      "execution_count": null,
      "outputs": []
    },
    {
      "cell_type": "code",
      "source": [
        "print(Height)"
      ],
      "metadata": {
        "colab": {
          "base_uri": "https://localhost:8080/"
        },
        "outputId": "12bf4b37-c61c-4d19-9680-104a7d38a7a1",
        "id": "V0wnbm4MUXlS"
      },
      "execution_count": null,
      "outputs": [
        {
          "output_type": "stream",
          "name": "stdout",
          "text": [
            "[160, 170.8, 'One hundred and fifty five']\n"
          ]
        }
      ]
    },
    {
      "cell_type": "code",
      "source": [
        "Height[0]"
      ],
      "metadata": {
        "colab": {
          "base_uri": "https://localhost:8080/"
        },
        "id": "izqKEs3LDEiV",
        "outputId": "df7f29a7-1072-4aa7-8fd7-f5660a26a77c"
      },
      "execution_count": null,
      "outputs": [
        {
          "output_type": "execute_result",
          "data": {
            "text/plain": [
              "160"
            ]
          },
          "metadata": {},
          "execution_count": 4
        }
      ]
    },
    {
      "cell_type": "code",
      "source": [
        "type(Height[0])"
      ],
      "metadata": {
        "colab": {
          "base_uri": "https://localhost:8080/"
        },
        "id": "pNjiH4w7DPbS",
        "outputId": "bf795890-f449-49f1-9831-7bc8fa5b9600"
      },
      "execution_count": null,
      "outputs": [
        {
          "output_type": "execute_result",
          "data": {
            "text/plain": [
              "int"
            ]
          },
          "metadata": {},
          "execution_count": 5
        }
      ]
    },
    {
      "cell_type": "code",
      "source": [
        "(Height[1])"
      ],
      "metadata": {
        "colab": {
          "base_uri": "https://localhost:8080/"
        },
        "id": "3t14seszDaOQ",
        "outputId": "5fd77d9e-5b2d-4e9c-a309-e2abcbb76e39"
      },
      "execution_count": null,
      "outputs": [
        {
          "output_type": "execute_result",
          "data": {
            "text/plain": [
              "170.8"
            ]
          },
          "metadata": {},
          "execution_count": 7
        }
      ]
    },
    {
      "cell_type": "code",
      "source": [
        "type(Height[1])"
      ],
      "metadata": {
        "colab": {
          "base_uri": "https://localhost:8080/"
        },
        "id": "tECN3N1fDTUn",
        "outputId": "6862336d-e435-4c62-e71e-c77d52edc33b"
      },
      "execution_count": null,
      "outputs": [
        {
          "output_type": "execute_result",
          "data": {
            "text/plain": [
              "float"
            ]
          },
          "metadata": {},
          "execution_count": 6
        }
      ]
    },
    {
      "cell_type": "code",
      "source": [
        "(Height[2])"
      ],
      "metadata": {
        "colab": {
          "base_uri": "https://localhost:8080/",
          "height": 35
        },
        "id": "rm-XTVlCDYJ2",
        "outputId": "075a8a8d-f698-4dff-ee0a-4a04d9495cc9"
      },
      "execution_count": null,
      "outputs": [
        {
          "output_type": "execute_result",
          "data": {
            "text/plain": [
              "'One hundred and fifty five'"
            ],
            "application/vnd.google.colaboratory.intrinsic+json": {
              "type": "string"
            }
          },
          "metadata": {},
          "execution_count": 8
        }
      ]
    },
    {
      "cell_type": "code",
      "source": [
        "type(Height[2])"
      ],
      "metadata": {
        "colab": {
          "base_uri": "https://localhost:8080/"
        },
        "id": "DmmJElPwDhdQ",
        "outputId": "3107f00e-384d-46ba-8aae-d2b4e1d85d89"
      },
      "execution_count": null,
      "outputs": [
        {
          "output_type": "execute_result",
          "data": {
            "text/plain": [
              "str"
            ]
          },
          "metadata": {},
          "execution_count": 9
        }
      ]
    },
    {
      "cell_type": "markdown",
      "source": [
        "In Python, list items are ordered.\n",
        "Ordered means when we say that lists are ordered\n",
        "\n",
        "It means that the items have a defined order, and that order will not change.\n",
        "\n",
        "The index is start from [0], [1], etc\n",
        "\n",
        "## *It also can be counted from the back by using minus [-]*"
      ],
      "metadata": {
        "id": "w6KAY1XZDuqV"
      }
    },
    {
      "cell_type": "code",
      "source": [
        "Score = [80, 75.5, \"ninety\", 92, \"one hundred\"]"
      ],
      "metadata": {
        "id": "YKypGQp4E5hm"
      },
      "execution_count": null,
      "outputs": []
    },
    {
      "cell_type": "code",
      "source": [
        "Score[-1]"
      ],
      "metadata": {
        "colab": {
          "base_uri": "https://localhost:8080/",
          "height": 35
        },
        "id": "cRZOBaW0GdCM",
        "outputId": "235620ce-23ca-49b1-d353-2dfa938c9930"
      },
      "execution_count": null,
      "outputs": [
        {
          "output_type": "execute_result",
          "data": {
            "text/plain": [
              "'one hundred'"
            ],
            "application/vnd.google.colaboratory.intrinsic+json": {
              "type": "string"
            }
          },
          "metadata": {},
          "execution_count": 16
        }
      ]
    },
    {
      "cell_type": "code",
      "source": [
        "Score[-2]"
      ],
      "metadata": {
        "colab": {
          "base_uri": "https://localhost:8080/"
        },
        "id": "YnogX0nIGqfK",
        "outputId": "b0635e54-9f2b-4abb-c46f-e798a861d0f4"
      },
      "execution_count": null,
      "outputs": [
        {
          "output_type": "execute_result",
          "data": {
            "text/plain": [
              "92"
            ]
          },
          "metadata": {},
          "execution_count": 17
        }
      ]
    },
    {
      "cell_type": "markdown",
      "source": [
        "## *List items also can be called in several number, by using [:]*\n",
        "\n",
        "with the formula\n",
        "**[n:n-1]**"
      ],
      "metadata": {
        "id": "xpEWZTIoGuaz"
      }
    },
    {
      "cell_type": "code",
      "source": [
        "Score[0:3]\n",
        "\n",
        "#It means that the data start from [0,1,2] only\n",
        "#[3] data is uncounted (n:n-1)"
      ],
      "metadata": {
        "colab": {
          "base_uri": "https://localhost:8080/"
        },
        "id": "oMz5gWdmHpg5",
        "outputId": "d40aeeae-6d48-4745-be36-1ad2900b77b7"
      },
      "execution_count": null,
      "outputs": [
        {
          "output_type": "execute_result",
          "data": {
            "text/plain": [
              "[80, 75.5, 'ninety']"
            ]
          },
          "metadata": {},
          "execution_count": 36
        }
      ]
    },
    {
      "cell_type": "code",
      "source": [
        "Score[2:5]\n",
        "\n",
        "#It means that the data start from [2,3,4] only\n",
        "#[5] data is uncounted (n:n-1)"
      ],
      "metadata": {
        "colab": {
          "base_uri": "https://localhost:8080/"
        },
        "id": "3cz9dvL6Hzee",
        "outputId": "2606f3e7-2254-4d20-8c49-4f4229f726dc"
      },
      "execution_count": null,
      "outputs": [
        {
          "output_type": "execute_result",
          "data": {
            "text/plain": [
              "['ninety', 92, 'one hundred']"
            ]
          },
          "metadata": {},
          "execution_count": 37
        }
      ]
    },
    {
      "cell_type": "code",
      "source": [
        "Score[3:7]\n",
        "\n",
        "#the data which out of index range will not make an error when using [:]\n",
        "#the data just show [3,4], which data [5,6] are out of range\n",
        "#but, if the data call only one, it will make an error data"
      ],
      "metadata": {
        "colab": {
          "base_uri": "https://localhost:8080/"
        },
        "id": "qasH_E30HjgT",
        "outputId": "aec422ca-e697-40f3-ad47-10283dc7f42d"
      },
      "execution_count": null,
      "outputs": [
        {
          "output_type": "execute_result",
          "data": {
            "text/plain": [
              "[92, 'one hundred']"
            ]
          },
          "metadata": {},
          "execution_count": 38
        }
      ]
    },
    {
      "cell_type": "markdown",
      "source": [
        "## List using empthy [ ] or null data"
      ],
      "metadata": {
        "id": "1TQRgA2LKF1z"
      }
    },
    {
      "cell_type": "code",
      "source": [
        "#If the null is at the beginning, the data start from the beginning\n",
        "\n",
        "Score[ :3]"
      ],
      "metadata": {
        "colab": {
          "base_uri": "https://localhost:8080/"
        },
        "id": "wtXDOH1xKzV9",
        "outputId": "831a8cbf-f24a-408d-d4bb-4303197dc9ff"
      },
      "execution_count": null,
      "outputs": [
        {
          "output_type": "execute_result",
          "data": {
            "text/plain": [
              "[80, 75.5, 'ninety']"
            ]
          },
          "metadata": {},
          "execution_count": 41
        }
      ]
    },
    {
      "cell_type": "code",
      "source": [
        "#If the null is at the end, the data will finih until the end\n",
        "\n",
        "Score[2: ]"
      ],
      "metadata": {
        "colab": {
          "base_uri": "https://localhost:8080/"
        },
        "id": "zgtATUTHLAOQ",
        "outputId": "b2b2730a-17b3-4a6a-d13f-eaef3b35dafd"
      },
      "execution_count": null,
      "outputs": [
        {
          "output_type": "execute_result",
          "data": {
            "text/plain": [
              "['ninety', 92, 'one hundred']"
            ]
          },
          "metadata": {},
          "execution_count": 40
        }
      ]
    },
    {
      "cell_type": "code",
      "source": [
        "#the null can be used at minus data [-], both of at beginning and ending\n",
        "\n",
        "Score[ :-1]"
      ],
      "metadata": {
        "colab": {
          "base_uri": "https://localhost:8080/"
        },
        "id": "uhTb4SdqLKpE",
        "outputId": "766bd5e3-e722-419f-e402-75585a148338"
      },
      "execution_count": null,
      "outputs": [
        {
          "output_type": "execute_result",
          "data": {
            "text/plain": [
              "[80, 75.5, 'ninety', 92]"
            ]
          },
          "metadata": {},
          "execution_count": 39
        }
      ]
    },
    {
      "cell_type": "code",
      "source": [
        "#the null can be used at minus data [-], both of at beginning and ending\n",
        "Score[-1: ]"
      ],
      "metadata": {
        "colab": {
          "base_uri": "https://localhost:8080/"
        },
        "id": "K7VYQ-3tMB1X",
        "outputId": "531999a4-9a1b-4aa0-b671-1250133003c5"
      },
      "execution_count": null,
      "outputs": [
        {
          "output_type": "execute_result",
          "data": {
            "text/plain": [
              "['one hundred']"
            ]
          },
          "metadata": {},
          "execution_count": 28
        }
      ]
    },
    {
      "cell_type": "markdown",
      "source": [
        "## List item using 3 parameter [0:0:0]"
      ],
      "metadata": {
        "id": "T8So1dpWWZ9k"
      }
    },
    {
      "cell_type": "code",
      "source": [
        "print(Score)"
      ],
      "metadata": {
        "colab": {
          "base_uri": "https://localhost:8080/"
        },
        "id": "cWo8jMnAWe6L",
        "outputId": "446c94f8-ed4f-4287-d0a8-956b857b945e"
      },
      "execution_count": null,
      "outputs": [
        {
          "output_type": "stream",
          "name": "stdout",
          "text": [
            "[80, 75.5, 'ninety', 92, 'one hundred']\n"
          ]
        }
      ]
    },
    {
      "cell_type": "code",
      "source": [
        "Score[0:4:3]\n",
        "\n",
        "#It means the data collected are started at [0] to [4] in python index, with step 3"
      ],
      "metadata": {
        "colab": {
          "base_uri": "https://localhost:8080/"
        },
        "id": "kyPr9lI3WwGf",
        "outputId": "4f3a5bd6-873c-4679-a9e3-75d7f1ed16ef"
      },
      "execution_count": null,
      "outputs": [
        {
          "output_type": "execute_result",
          "data": {
            "text/plain": [
              "[80, 92]"
            ]
          },
          "metadata": {},
          "execution_count": 52
        }
      ]
    },
    {
      "cell_type": "code",
      "source": [
        "Score[1:4:2]\n",
        "\n",
        "#It means the data collected are started at [1] to [4] in python index, with step 2"
      ],
      "metadata": {
        "colab": {
          "base_uri": "https://localhost:8080/"
        },
        "id": "iHt8PE_GXBAM",
        "outputId": "ed05f18d-9a1d-4301-e381-5acaf44f0a6b"
      },
      "execution_count": null,
      "outputs": [
        {
          "output_type": "execute_result",
          "data": {
            "text/plain": [
              "[75.5, 92]"
            ]
          },
          "metadata": {},
          "execution_count": 54
        }
      ]
    },
    {
      "cell_type": "markdown",
      "source": [
        "# Add List Items\n",
        "\n",
        "##Append Items\n",
        "To add an item to the end of the list, use the append() method:"
      ],
      "metadata": {
        "id": "6Bwg387gXjqp"
      }
    },
    {
      "cell_type": "code",
      "source": [
        "print(Score)"
      ],
      "metadata": {
        "colab": {
          "base_uri": "https://localhost:8080/"
        },
        "id": "v7xlyuFoYJru",
        "outputId": "5ccaacf0-692b-47e3-9237-24af60aeccf2"
      },
      "execution_count": null,
      "outputs": [
        {
          "output_type": "stream",
          "name": "stdout",
          "text": [
            "[80, 75.5, 'ninety', 92, 'one hundred']\n"
          ]
        }
      ]
    },
    {
      "cell_type": "code",
      "source": [
        "Score.append(89)\n",
        "\n",
        "#the new item, will list at the end of the list"
      ],
      "metadata": {
        "id": "86f5ZgJiYQZR"
      },
      "execution_count": null,
      "outputs": []
    },
    {
      "cell_type": "code",
      "source": [
        "print(Score)"
      ],
      "metadata": {
        "colab": {
          "base_uri": "https://localhost:8080/"
        },
        "id": "QOnYzZ1RYfMp",
        "outputId": "0cbd8708-6313-4675-aa7b-4775eff73e13"
      },
      "execution_count": null,
      "outputs": [
        {
          "output_type": "stream",
          "name": "stdout",
          "text": [
            "[80, 75.5, 'ninety', 92, 'one hundred', 89]\n"
          ]
        }
      ]
    },
    {
      "cell_type": "markdown",
      "source": [
        "# Extend List\n",
        "\n",
        "To append elements from another list to the current list, use the extend() method.\n"
      ],
      "metadata": {
        "id": "h7krnC6TY0c8"
      }
    },
    {
      "cell_type": "code",
      "source": [
        "Score.extend([\"fifty four\",60.2,\"Eighty three\"])\n",
        "\n",
        "#It will merge the new list at the end of the other list"
      ],
      "metadata": {
        "id": "9Psj2NghY-rk"
      },
      "execution_count": null,
      "outputs": []
    },
    {
      "cell_type": "code",
      "source": [
        "print(Score)"
      ],
      "metadata": {
        "colab": {
          "base_uri": "https://localhost:8080/"
        },
        "id": "SYdKwHXiZP4R",
        "outputId": "cd56a595-fb51-4c0a-8260-247debeb1d64"
      },
      "execution_count": null,
      "outputs": [
        {
          "output_type": "stream",
          "name": "stdout",
          "text": [
            "[80, 75.5, 'ninety', 92, 'one hundred', 89, 'fifty four', 60.2, 'Eighty three']\n"
          ]
        }
      ]
    },
    {
      "cell_type": "markdown",
      "source": [
        "#**Insert**\n",
        "\n",
        "The list insert is a built-in Python function that inserts an item to the list at the given index. The insert method accepts index and element as arguments and does not return any value, but it inserts the given element at the given index.\n",
        "\n",
        "Syntax : list.insert(index, element)"
      ],
      "metadata": {
        "id": "zzcmrO2qc3my"
      }
    },
    {
      "cell_type": "code",
      "source": [
        "# Example\n",
        "tea = [\"ice tea\", \"green tea\", \"black tea\", \"sweet tea\"]"
      ],
      "metadata": {
        "id": "BgWsBUNYc59L"
      },
      "execution_count": null,
      "outputs": []
    },
    {
      "cell_type": "code",
      "source": [
        "tea.insert(3,\"sweet iced tea\")"
      ],
      "metadata": {
        "id": "Kbx0CsmkjqWZ"
      },
      "execution_count": null,
      "outputs": []
    },
    {
      "cell_type": "code",
      "source": [
        "print(tea)"
      ],
      "metadata": {
        "colab": {
          "base_uri": "https://localhost:8080/"
        },
        "id": "CU5ZiD2xj00B",
        "outputId": "b9b1c373-2889-4faf-9b35-5b15d9051a62"
      },
      "execution_count": null,
      "outputs": [
        {
          "output_type": "stream",
          "name": "stdout",
          "text": [
            "['ice tea', 'green tea', 'black tea', 'sweet iced tea', 'sweet tea']\n"
          ]
        }
      ]
    },
    {
      "cell_type": "markdown",
      "source": [
        "#**Remove**\n",
        "\n",
        "To remove an element from the List in Python, use the List.remove method. The List remove is a built-in method that searches for the element in the List and removes the first matching item. The remove method does not return any value but removes the given object from the List.\n",
        "\n",
        "Syntax : list.remove(item)"
      ],
      "metadata": {
        "id": "Nnreq_EZj-v8"
      }
    },
    {
      "cell_type": "code",
      "source": [
        "# Example\n",
        "years = [2017, 2018, 2019, 2020, 2021]"
      ],
      "metadata": {
        "id": "VSH-zafekHrS"
      },
      "execution_count": null,
      "outputs": []
    },
    {
      "cell_type": "code",
      "source": [
        "years.remove(2020)"
      ],
      "metadata": {
        "id": "IdNTsIDVkI7L"
      },
      "execution_count": null,
      "outputs": []
    },
    {
      "cell_type": "code",
      "source": [
        "print(years)"
      ],
      "metadata": {
        "id": "q-1RTNoekOGO"
      },
      "execution_count": null,
      "outputs": []
    },
    {
      "cell_type": "code",
      "source": [
        "# remove the element that doesn’t exist\n",
        "years.remove(2022)"
      ],
      "metadata": {
        "id": "GzAQvJ9pkelj"
      },
      "execution_count": null,
      "outputs": []
    },
    {
      "cell_type": "markdown",
      "source": [
        "#**Del**\n",
        "\n",
        "In Python everything is an object, so the keyword can also be used to delete variables, lists, or parts of a list etc.\n",
        "\n",
        "**Note** : One thing to remember that while removing the elements, it counts the start index but not the end index. The last removed element's index is end index – 1. It does not include the end index.\n",
        "\n",
        "Syntax : del list[start index: end index]"
      ],
      "metadata": {
        "id": "x3fuKyTPkxXW"
      }
    },
    {
      "cell_type": "code",
      "source": [
        "# Example\n",
        "name = [\"James\", \"Robert\", \"David\", \"Michael\",\"William\"]"
      ],
      "metadata": {
        "id": "t1rbxkvnlCri"
      },
      "execution_count": null,
      "outputs": []
    },
    {
      "cell_type": "code",
      "source": [
        "del name[1:3]"
      ],
      "metadata": {
        "id": "DyKsBLUmlFs1"
      },
      "execution_count": null,
      "outputs": []
    },
    {
      "cell_type": "code",
      "source": [
        "print(name)"
      ],
      "metadata": {
        "id": "j0TY3kghlJLk"
      },
      "execution_count": null,
      "outputs": []
    },
    {
      "cell_type": "code",
      "source": [
        "# clear the entire Python list or delete all items\n",
        "del name[:]"
      ],
      "metadata": {
        "id": "YLnM7-t9lNBa"
      },
      "execution_count": null,
      "outputs": []
    },
    {
      "cell_type": "code",
      "source": [
        "print(name)"
      ],
      "metadata": {
        "id": "HDwTDssvlQJT"
      },
      "execution_count": null,
      "outputs": []
    },
    {
      "cell_type": "markdown",
      "source": [
        "# POP\n",
        "pop () function is used to remove an element in the list (by default the last element), and returns the value of that element."
      ],
      "metadata": {
        "id": "fKgvUmvJc6eS"
      }
    },
    {
      "cell_type": "code",
      "source": [
        "#Suppose you find the variable y, where the variable is an array list type.\n",
        "z = [\"python\", \"php\", \"ruby\", \"java\"]"
      ],
      "metadata": {
        "id": "Bao_RR4Udb2V"
      },
      "execution_count": null,
      "outputs": []
    },
    {
      "cell_type": "code",
      "source": [
        "#The program code above, is a way to form a variable with type array list.\n",
        "#If we display the z variable using the print() function, the program code is as below.\n",
        "print(z)"
      ],
      "metadata": {
        "colab": {
          "base_uri": "https://localhost:8080/"
        },
        "id": "buV6AEOHK2E3",
        "outputId": "e5b29d92-d352-4bf0-e467-75ef57460de2"
      },
      "execution_count": null,
      "outputs": [
        {
          "output_type": "stream",
          "name": "stdout",
          "text": [
            "['python', 'php', 'ruby', 'java']\n"
          ]
        }
      ]
    },
    {
      "cell_type": "code",
      "source": [
        "#Next, we want to remove one of these elements from the array list variable z.\n",
        "#Let's say, we want to remove the ruby ​​element. In the variable z, the ruby ​​element is at the second index. Please note that the order of elements in the array list starts at index 0, then index 1, and so on.\n",
        "z.pop(2)"
      ],
      "metadata": {
        "colab": {
          "base_uri": "https://localhost:8080/",
          "height": 35
        },
        "id": "qE-rJQmeLv5T",
        "outputId": "c89eb644-1029-4c3d-da58-d833f5dd5b58"
      },
      "execution_count": null,
      "outputs": [
        {
          "output_type": "execute_result",
          "data": {
            "text/plain": [
              "'ruby'"
            ],
            "application/vnd.google.colaboratory.intrinsic+json": {
              "type": "string"
            }
          },
          "metadata": {},
          "execution_count": 11
        }
      ]
    },
    {
      "cell_type": "code",
      "source": [
        "#From the print(z) display above, it appears that the variable list array element now consists of 3 elements, where the ruby ​​element is not in it. Now, the element occupying index 0 is python, and the last element or element 2 is java.\n",
        "print(z)"
      ],
      "metadata": {
        "colab": {
          "base_uri": "https://localhost:8080/"
        },
        "id": "CnhqKtanMK9v",
        "outputId": "da01c6ea-395e-460e-faab-d6fe6f9c4afa"
      },
      "execution_count": null,
      "outputs": [
        {
          "output_type": "stream",
          "name": "stdout",
          "text": [
            "['python', 'php', 'java']\n"
          ]
        }
      ]
    },
    {
      "cell_type": "markdown",
      "source": [
        "#INDEX\n",
        "The index() function is used to find the position of an element in an array list.\n"
      ],
      "metadata": {
        "id": "VabMfTR9dBwj"
      }
    },
    {
      "cell_type": "code",
      "source": [
        "#There are data variables of type array list in python programming, as below.\n",
        "data = [\"python\", \"java\", \"php\", \"matlab\"]"
      ],
      "metadata": {
        "id": "X9shkTnMLuzA"
      },
      "execution_count": null,
      "outputs": []
    },
    {
      "cell_type": "code",
      "source": [
        "#want to get information about the position of one of the data variable elements. For that, we can use the help of the index() function.\n",
        "data.index(\"python\")"
      ],
      "metadata": {
        "id": "2oUMWxMUdbI5",
        "colab": {
          "base_uri": "https://localhost:8080/"
        },
        "outputId": "ca38c3a0-6756-4eb2-f769-2952deb0457b"
      },
      "execution_count": null,
      "outputs": [
        {
          "output_type": "execute_result",
          "data": {
            "text/plain": [
              "0"
            ]
          },
          "metadata": {},
          "execution_count": 14
        }
      ]
    },
    {
      "cell_type": "markdown",
      "source": [
        "#Count\n",
        "\n",
        "Python List count() is a function in Python that returns the count of how many times a given element occurs in a List. The count() function is used to count elements on a list as well as a string.\n",
        "\n",
        "**Syntax** : list.count(element)\n",
        "\n",
        "**Parameter** : *element* (required) - Any type (string, number, list, tuple, etc.), the element to search for\n",
        "\n",
        "**Return** : count() method returns the count of how many times element occurs in the list\n",
        "\n",
        "**Exception** : If more than one parameter is passed in count() method, it returns a *TypeError*."
      ],
      "metadata": {
        "id": "eanmLuUcdC0j"
      }
    },
    {
      "cell_type": "code",
      "source": [
        "one = [0, 8, 1, 2, 6, 2, 7, 3, 4, 2, 3, 2, \"name\", \"age\",  \"name\"]\n",
        "print(one)"
      ],
      "metadata": {
        "id": "qmg9wEIzdbii"
      },
      "execution_count": null,
      "outputs": []
    },
    {
      "cell_type": "code",
      "source": [
        "#count how many times element 2 occurs in the list \n",
        "#syntax = list.count(element)\n",
        "\n",
        "one.count(2)"
      ],
      "metadata": {
        "id": "-wpiR_W8Gh1A"
      },
      "execution_count": null,
      "outputs": []
    },
    {
      "cell_type": "code",
      "source": [
        "#count how many times element \"age\" occurs in the list\n",
        "#syntax = list.count(element)\n",
        "\n",
        "one.count(\"age\")"
      ],
      "metadata": {
        "id": "rTrTRmXgHM3i"
      },
      "execution_count": null,
      "outputs": []
    },
    {
      "cell_type": "code",
      "source": [
        "#count how mant times element 3 and \"name\" occurs in the list\n",
        "#syntax = list.count(element)\n",
        "\n",
        "#one.count(3,\"name\")\n",
        "\n",
        "#The result will TypeError because I use more than one parameter1"
      ],
      "metadata": {
        "id": "0qInsKYcHdec"
      },
      "execution_count": null,
      "outputs": []
    },
    {
      "cell_type": "markdown",
      "source": [
        "# LEN\n",
        "\n",
        "LEN is used to return the number of items in an object"
      ],
      "metadata": {
        "id": "FuZhvAJhdE8B"
      }
    },
    {
      "cell_type": "code",
      "source": [
        "l = [1,2,3,4,5]\n",
        "print(len(l))"
      ],
      "metadata": {
        "colab": {
          "base_uri": "https://localhost:8080/"
        },
        "id": "jjTRJ5gcb9dG",
        "outputId": "976a272f-89fb-40a8-d10a-a875e6b5aad3"
      },
      "execution_count": null,
      "outputs": [
        {
          "output_type": "stream",
          "name": "stdout",
          "text": [
            "5\n"
          ]
        }
      ]
    },
    {
      "cell_type": "markdown",
      "source": [
        "LEN will return the number of item in the list. If len applied to string, the return value will be the number of characters in string including the spacing"
      ],
      "metadata": {
        "id": "sdGfHtA-cOgN"
      }
    },
    {
      "cell_type": "code",
      "source": [
        "len_string = \"Farhan Nafily\"\n",
        "len(len_string)"
      ],
      "metadata": {
        "colab": {
          "base_uri": "https://localhost:8080/"
        },
        "outputId": "f3190d19-d42f-4cdb-aca3-d41510394e55",
        "id": "APt_urgrcnnL"
      },
      "execution_count": null,
      "outputs": [
        {
          "output_type": "execute_result",
          "data": {
            "text/plain": [
              "13"
            ]
          },
          "metadata": {},
          "execution_count": 3
        }
      ]
    },
    {
      "cell_type": "markdown",
      "source": [
        "#sort() \n",
        "sort() is used to help sort the disordered list"
      ],
      "metadata": {
        "id": "5f4YwHG_c6g1"
      }
    },
    {
      "cell_type": "code",
      "source": [
        "g = [4,3,2,5,7,6,8,6,1,3]\n",
        "g.sort(reverse = False)\n",
        "print(g)\n"
      ],
      "metadata": {
        "colab": {
          "base_uri": "https://localhost:8080/"
        },
        "id": "70Ud5t2halIP",
        "outputId": "ecd45888-bbe2-4a7e-8988-3a1f6b8549ca"
      },
      "execution_count": null,
      "outputs": [
        {
          "output_type": "stream",
          "name": "stdout",
          "text": [
            "[1, 2, 3, 3, 4, 5, 6, 6, 7, 8]\n"
          ]
        }
      ]
    },
    {
      "cell_type": "markdown",
      "source": [
        "#reverse()\n",
        "\n",
        "reverse() is used to sort list in a descending manner based on the predetermined order"
      ],
      "metadata": {
        "id": "kVjDQaYddGvH"
      }
    },
    {
      "cell_type": "code",
      "source": [
        "f = [4,3,2,5,7,6,8,6,1,3]\n",
        "f.reverse()\n",
        "print(f)"
      ],
      "metadata": {
        "colab": {
          "base_uri": "https://localhost:8080/"
        },
        "id": "1aEPKs0fdT1P",
        "outputId": "713dbd5e-f9d6-4e03-cdee-d431fc4ed3dc"
      },
      "execution_count": null,
      "outputs": [
        {
          "output_type": "stream",
          "name": "stdout",
          "text": [
            "[3, 1, 6, 8, 6, 7, 5, 2, 3, 4]\n"
          ]
        }
      ]
    },
    {
      "cell_type": "markdown",
      "source": [
        "in order to sort descending numerically or alphabetically, we can utilize sort() and incorporate reverse = True within"
      ],
      "metadata": {
        "id": "upl-iZOqdn8N"
      }
    },
    {
      "cell_type": "code",
      "source": [
        "f = [4,3,2,5,7,6,8,6,1,3]\n",
        "f.sort(reverse = True)\n",
        "print(f)"
      ],
      "metadata": {
        "id": "R6Nv6PDSd6bN",
        "outputId": "71285337-7790-4e99-a305-1a9fdb2695f3",
        "colab": {
          "base_uri": "https://localhost:8080/"
        }
      },
      "execution_count": null,
      "outputs": [
        {
          "output_type": "stream",
          "name": "stdout",
          "text": [
            "[8, 7, 6, 6, 5, 4, 3, 3, 2, 1]\n"
          ]
        }
      ]
    },
    {
      "cell_type": "markdown",
      "source": [
        "# Slicing\n",
        "\n",
        "Slicing in python is a technic to slice some of object in dataset. Slicing can be done in many type of dataset like string, tuple, list, or range."
      ],
      "metadata": {
        "id": "DlHScKEVE8vW"
      }
    },
    {
      "cell_type": "code",
      "source": [
        "slicing=[2,5,6,13.5,77,\"potong\",\"belah\"]"
      ],
      "metadata": {
        "id": "LcXkKuRbdOu-"
      },
      "execution_count": null,
      "outputs": []
    },
    {
      "cell_type": "code",
      "source": [
        "#stucture : variable_name[index_start:index stop+1]\n",
        "slicing[4:7]"
      ],
      "metadata": {
        "id": "bMOFEMLALMix"
      },
      "execution_count": null,
      "outputs": []
    },
    {
      "cell_type": "code",
      "source": [
        "#if the first index was blank, it will take the data from the first in dataset\n",
        "slicing[:4]"
      ],
      "metadata": {
        "id": "OfPflqr-LUjB"
      },
      "execution_count": null,
      "outputs": []
    },
    {
      "cell_type": "code",
      "source": [
        "#if the last index was blank, it will take the data untill the last from dataset\n",
        "slicing[2:]"
      ],
      "metadata": {
        "id": "SSuby3t1MKRk"
      },
      "execution_count": null,
      "outputs": []
    },
    {
      "cell_type": "code",
      "source": [
        "#if you want take a data from dataset, just write the index\n",
        "slicing[5]"
      ],
      "metadata": {
        "id": "iM2egtP8MYir"
      },
      "execution_count": null,
      "outputs": []
    },
    {
      "cell_type": "code",
      "source": [
        "#this function allow you to pass the data from the slice by adding one parameter after index parameter\n",
        "slicing[2:8:2]"
      ],
      "metadata": {
        "id": "MZ2qHGxOM6NZ"
      },
      "execution_count": null,
      "outputs": []
    },
    {
      "cell_type": "markdown",
      "source": [
        "#Tuple\n",
        "Tuple is data type in python which is ordered and can't be changed.\n",
        "Tuple are written by round bracket. Tuple is faster than list, set, or dictionary because the order is fixed"
      ],
      "metadata": {
        "id": "1yLTa8G5OmIV"
      }
    },
    {
      "cell_type": "code",
      "source": [
        "tulep=(44,52,\"angka\", 1, 4 ,\"buang\",1)\n",
        "print(tulep)"
      ],
      "metadata": {
        "id": "UOplYoo7Ojs2"
      },
      "execution_count": null,
      "outputs": []
    },
    {
      "cell_type": "code",
      "source": [
        "#slicing still can be done in tuple\n",
        "tulep[2:5]"
      ],
      "metadata": {
        "id": "klbmut8yQI0Y"
      },
      "execution_count": null,
      "outputs": []
    },
    {
      "cell_type": "code",
      "source": [
        "#data in tuple are unchangeable unlike list\n",
        "tulep[1]=100"
      ],
      "metadata": {
        "id": "tBs43PJtQxLE"
      },
      "execution_count": null,
      "outputs": []
    },
    {
      "cell_type": "markdown",
      "source": [
        "#Set\n",
        "Set is unordered data types in python. This mean you can't get the data from set by slicing it. Set element are unique. Set are written by curly bracket."
      ],
      "metadata": {
        "id": "8hx8rVb_TINV"
      }
    },
    {
      "cell_type": "code",
      "source": [
        "#set just gonna emit the value when its unique\n",
        "sett={2,1,44,4,4,21,1,2,88}\n",
        "print(sett)"
      ],
      "metadata": {
        "id": "xTiBG-gORvaE"
      },
      "execution_count": null,
      "outputs": []
    },
    {
      "cell_type": "code",
      "source": [
        "# set can't call by just write the index. This because set just contain unique value\n",
        "sett[2]"
      ],
      "metadata": {
        "id": "D7ayqB8yUiLi"
      },
      "execution_count": null,
      "outputs": []
    },
    {
      "cell_type": "markdown",
      "source": [
        "#Dictionary\n",
        "\n",
        "Dictionary in Python is an unordered collection of data values, used to store data values like a map, which, unlike other Data Types that hold only a single value as an element, Dictionary holds key:value pair. Key-value is provided in the dictionary to make it more optimized. \n",
        " \n",
        "\n",
        "**Note**:  Keys in a dictionary don’t allow Polymorphism."
      ],
      "metadata": {
        "id": "Vuk1mTZ7dO4_"
      }
    },
    {
      "cell_type": "markdown",
      "source": [
        "**Creating Dictionary**\n",
        "\n",
        "Dictionary can be created by placing a sequence of elements within curly {} braces, separated by ‘comma’. Dictionary holds pairs of values, one being the Key and the other corresponding pair element being its Key:value. Values in a dictionary **can be of any data type and can be duplicated**, whereas keys **can’t be repeated and must be immutable**."
      ],
      "metadata": {
        "id": "b4CLaQSX5cJT"
      }
    },
    {
      "cell_type": "code",
      "source": [
        "dict_1 = {\n",
        "    \"group\" : \"Code\",\n",
        "    \"member\" : [\"Almas\", \"Eri\", \"Farhan\", \"Intan\", \"Puji\", \"Rifki\"],\n",
        "    \"number\" : 6,\n",
        "    1 : \"Data Type (Number, String, Boolean)\",\n",
        "    2 : \"Data Type Part 2 (List, Slicing, Tuple, Set, Dictionary)\"\n",
        "}"
      ],
      "metadata": {
        "id": "9RuxoMnidQxb"
      },
      "execution_count": null,
      "outputs": []
    },
    {
      "cell_type": "markdown",
      "source": [
        "To access a data in dictionary, you should know the keys in dictionary. By calling ke key in dictionary, you can print the value by key.\n",
        "\n",
        "**Syntax** : print ( dict [ key ] )"
      ],
      "metadata": {
        "id": "Q5bGkbH97x3s"
      }
    },
    {
      "cell_type": "code",
      "source": [
        "print(dict_1['group'])"
      ],
      "metadata": {
        "id": "FYKg2TNL7F36",
        "colab": {
          "base_uri": "https://localhost:8080/"
        },
        "outputId": "618a3bc2-6863-4d5d-b56f-5bce2526cdaf"
      },
      "execution_count": null,
      "outputs": [
        {
          "output_type": "stream",
          "name": "stdout",
          "text": [
            "Code\n"
          ]
        }
      ]
    },
    {
      "cell_type": "code",
      "source": [
        "print(dict_1[2])"
      ],
      "metadata": {
        "colab": {
          "base_uri": "https://localhost:8080/"
        },
        "id": "eEJ8hPFt8imY",
        "outputId": "f4092c67-833f-4b7e-9f8d-02c380a26472"
      },
      "execution_count": null,
      "outputs": [
        {
          "output_type": "stream",
          "name": "stdout",
          "text": [
            "Data Type Part 2 (List, Slicing, Tuple, Set, Dictionary)\n"
          ]
        }
      ]
    },
    {
      "cell_type": "code",
      "source": [
        "print(dict_1['member'])"
      ],
      "metadata": {
        "colab": {
          "base_uri": "https://localhost:8080/"
        },
        "id": "OouVrIpT8qdU",
        "outputId": "bc845a51-a58c-428f-d590-ff34c23df45c"
      },
      "execution_count": null,
      "outputs": [
        {
          "output_type": "stream",
          "name": "stdout",
          "text": [
            "['Almas', 'Eri', 'Farhan', 'Intan', 'Puji', 'Rifki']\n"
          ]
        }
      ]
    },
    {
      "cell_type": "markdown",
      "source": [
        "The key in dictionary can't be duplicate, it must be unique. If we create two or more keys with the same name, the value on first key will be overwrite by the second one."
      ],
      "metadata": {
        "id": "LokGNp7A84WU"
      }
    },
    {
      "cell_type": "code",
      "source": [
        "dict_2 = {\n",
        "    \"name\" : \"John\",\n",
        "    \"age\" : 12,\n",
        "    \"hobby\" : \"dancing\",\n",
        "    \"age\" : 17\n",
        "}"
      ],
      "metadata": {
        "id": "DrMjH5x-9Usy"
      },
      "execution_count": null,
      "outputs": []
    },
    {
      "cell_type": "code",
      "source": [
        "print(dict_2)"
      ],
      "metadata": {
        "colab": {
          "base_uri": "https://localhost:8080/"
        },
        "id": "xd_LcDzl96MF",
        "outputId": "3da8083d-70eb-428c-b5c8-90195c24eb3e"
      },
      "execution_count": null,
      "outputs": [
        {
          "output_type": "stream",
          "name": "stdout",
          "text": [
            "{'name': 'John', 'age': 17, 'hobby': 'dancing'}\n"
          ]
        }
      ]
    },
    {
      "cell_type": "markdown",
      "source": [
        "**Changing and Adding Elements to a Dictionary**\n",
        "\n",
        "Dictionaries are mutable. We can add new items or change the value of existing items using an assignment operator. If the key is already present, then the existing value gets updated. In case the key is not present, a new (key:value) pair is added to the dictionary.\n",
        "\n",
        "**Syntax**: dict[ key ] = value"
      ],
      "metadata": {
        "id": "h3E_wuyR_HNx"
      }
    },
    {
      "cell_type": "code",
      "source": [
        "dict_3 = {\n",
        "    \"name\" : \"Jane\"\n",
        "}"
      ],
      "metadata": {
        "id": "yBLdg9gvBEh9"
      },
      "execution_count": null,
      "outputs": []
    },
    {
      "cell_type": "code",
      "source": [
        "print(dict_3)"
      ],
      "metadata": {
        "colab": {
          "base_uri": "https://localhost:8080/"
        },
        "id": "XD-vIqliBJox",
        "outputId": "49e1d567-c4b5-4e35-9511-bada38daada1"
      },
      "execution_count": null,
      "outputs": [
        {
          "output_type": "stream",
          "name": "stdout",
          "text": [
            "{'name': 'Jane'}\n"
          ]
        }
      ]
    },
    {
      "cell_type": "code",
      "source": [
        "#Change the value in \"name\" key\n",
        "dict_3[\"name\"] = \"Jessica\""
      ],
      "metadata": {
        "id": "5aBvu5Q7BSmu"
      },
      "execution_count": null,
      "outputs": []
    },
    {
      "cell_type": "code",
      "source": [
        "print(dict_3)"
      ],
      "metadata": {
        "colab": {
          "base_uri": "https://localhost:8080/"
        },
        "id": "93zKSu44Bc3Y",
        "outputId": "6adf2731-e277-4d6b-8f59-9dbea1ee3a7f"
      },
      "execution_count": null,
      "outputs": [
        {
          "output_type": "stream",
          "name": "stdout",
          "text": [
            "{'name': 'Jessica'}\n"
          ]
        }
      ]
    },
    {
      "cell_type": "code",
      "source": [
        "#Adding a new element (key:value) to dictionary\n",
        "dict_3[\"address\"] = \"New York\""
      ],
      "metadata": {
        "id": "MolZK0ZkBkJP"
      },
      "execution_count": null,
      "outputs": []
    },
    {
      "cell_type": "code",
      "source": [
        "print(dict_3)"
      ],
      "metadata": {
        "colab": {
          "base_uri": "https://localhost:8080/"
        },
        "id": "-zz9YyNhBx49",
        "outputId": "e2cdc869-b77e-492d-8756-aa80d0c7156d"
      },
      "execution_count": null,
      "outputs": [
        {
          "output_type": "stream",
          "name": "stdout",
          "text": [
            "{'name': 'Jessica', 'address': 'New York'}\n"
          ]
        }
      ]
    },
    {
      "cell_type": "code",
      "source": [
        "#Adding a new element with Tuple as a value to dictionary\n",
        "dict_3[\"fav colors\"] = \"Blue\", \"Violet\", \"Pink\""
      ],
      "metadata": {
        "id": "6OtvGsF6CbTu"
      },
      "execution_count": null,
      "outputs": []
    },
    {
      "cell_type": "code",
      "source": [
        "print(dict_3)"
      ],
      "metadata": {
        "colab": {
          "base_uri": "https://localhost:8080/"
        },
        "id": "4sMKKXZGC_sS",
        "outputId": "3927a29f-5711-487f-d18b-bf8c052ab411"
      },
      "execution_count": null,
      "outputs": [
        {
          "output_type": "stream",
          "name": "stdout",
          "text": [
            "{'name': 'Jessica', 'address': 'New York', 'fav colors': ('Blue', 'Violet', 'Pink')}\n"
          ]
        }
      ]
    },
    {
      "cell_type": "markdown",
      "source": [
        "# Conversion\n",
        "Data type conversion is a technique of changing the initial value of data type a, to data type b."
      ],
      "metadata": {
        "id": "xn6RK5yXdQ5G"
      }
    },
    {
      "cell_type": "code",
      "source": [
        "#Convert Integer to Float\n",
        "#Python's float() method will convert an integer to a float. To use this function, add an integer inside the brackets:\n",
        "float(57)"
      ],
      "metadata": {
        "id": "v86CCacfdctq",
        "colab": {
          "base_uri": "https://localhost:8080/"
        },
        "outputId": "a3d09e4e-6ffd-45b4-ea0e-d290cdaa7766"
      },
      "execution_count": null,
      "outputs": [
        {
          "output_type": "execute_result",
          "data": {
            "text/plain": [
              "57.0"
            ]
          },
          "metadata": {},
          "execution_count": 16
        }
      ]
    },
    {
      "cell_type": "code",
      "source": [
        "print(float(57))"
      ],
      "metadata": {
        "colab": {
          "base_uri": "https://localhost:8080/"
        },
        "id": "qLeMIzzGPl7A",
        "outputId": "70258f2a-54c8-4393-ed15-a1db3f8d55af"
      },
      "execution_count": null,
      "outputs": [
        {
          "output_type": "stream",
          "name": "stdout",
          "text": [
            "57.0\n"
          ]
        }
      ]
    },
    {
      "cell_type": "code",
      "source": [
        "type(float(57))"
      ],
      "metadata": {
        "colab": {
          "base_uri": "https://localhost:8080/"
        },
        "id": "xR-2Sa-4PpIj",
        "outputId": "c3d4eac6-9208-44b4-8c9a-61a3fbcef98c"
      },
      "execution_count": null,
      "outputs": [
        {
          "output_type": "execute_result",
          "data": {
            "text/plain": [
              "float"
            ]
          },
          "metadata": {},
          "execution_count": 18
        }
      ]
    },
    {
      "cell_type": "code",
      "source": [
        "#Convert Float to Integer.\n",
        "#The int() function works much like the float() function: you can add a fractional number in parentheses to convert it to an integer:\n",
        "int(60.5)"
      ],
      "metadata": {
        "colab": {
          "base_uri": "https://localhost:8080/"
        },
        "id": "LVKEbePoP931",
        "outputId": "0d9848dd-fa29-4de3-cd01-b76a58b2b867"
      },
      "execution_count": null,
      "outputs": [
        {
          "output_type": "execute_result",
          "data": {
            "text/plain": [
              "60"
            ]
          },
          "metadata": {},
          "execution_count": 19
        }
      ]
    },
    {
      "cell_type": "code",
      "source": [
        "print(int(60.5))"
      ],
      "metadata": {
        "colab": {
          "base_uri": "https://localhost:8080/"
        },
        "id": "Dhep99RZQJUz",
        "outputId": "c0eaf501-cc6f-411b-ecea-3ce36f3c3fc1"
      },
      "execution_count": null,
      "outputs": [
        {
          "output_type": "stream",
          "name": "stdout",
          "text": [
            "60\n"
          ]
        }
      ]
    },
    {
      "cell_type": "code",
      "source": [
        "type(int(60.5))"
      ],
      "metadata": {
        "colab": {
          "base_uri": "https://localhost:8080/"
        },
        "id": "CeAc263TQMfd",
        "outputId": "d940fb5a-1d3f-4873-c5a6-937fbf7f1774"
      },
      "execution_count": null,
      "outputs": [
        {
          "output_type": "execute_result",
          "data": {
            "text/plain": [
              "int"
            ]
          },
          "metadata": {},
          "execution_count": 21
        }
      ]
    },
    {
      "cell_type": "code",
      "source": [
        "#Converting Integer to String\n",
        "#We can convert a number to a string using the str() method. We'll put a number or variable in the brackets of the method, then that numeric value will be converted to a string value.\n",
        "str(12)"
      ],
      "metadata": {
        "colab": {
          "base_uri": "https://localhost:8080/",
          "height": 35
        },
        "id": "gWqLEVB1QXIY",
        "outputId": "c9683257-9351-4f13-d3f1-67a9b25efaad"
      },
      "execution_count": null,
      "outputs": [
        {
          "output_type": "execute_result",
          "data": {
            "text/plain": [
              "'12'"
            ],
            "application/vnd.google.colaboratory.intrinsic+json": {
              "type": "string"
            }
          },
          "metadata": {},
          "execution_count": 22
        }
      ]
    },
    {
      "cell_type": "code",
      "source": [
        "print(str(12))"
      ],
      "metadata": {
        "colab": {
          "base_uri": "https://localhost:8080/"
        },
        "id": "R5Zu0I9aQpqg",
        "outputId": "571e107d-b377-457d-b625-30463b094bd8"
      },
      "execution_count": null,
      "outputs": [
        {
          "output_type": "stream",
          "name": "stdout",
          "text": [
            "12\n"
          ]
        }
      ]
    },
    {
      "cell_type": "code",
      "source": [
        "type(str(12))"
      ],
      "metadata": {
        "id": "NEd2bE8cQw5E",
        "outputId": "8b705ff7-3f01-41e7-d879-bf8c4c5aabe9",
        "colab": {
          "base_uri": "https://localhost:8080/"
        }
      },
      "execution_count": null,
      "outputs": [
        {
          "output_type": "execute_result",
          "data": {
            "text/plain": [
              "str"
            ]
          },
          "metadata": {},
          "execution_count": 24
        }
      ]
    }
  ]
}